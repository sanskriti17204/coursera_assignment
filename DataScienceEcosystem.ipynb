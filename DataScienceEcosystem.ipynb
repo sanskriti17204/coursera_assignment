{
 "cells": [
  {
   "cell_type": "markdown",
   "id": "ce014d2e-def9-4e48-add2-2af9deacae18",
   "metadata": {},
   "source": [
    "# Data Science Tools and Ecosystem"
   ]
  },
  {
   "cell_type": "markdown",
   "id": "b45fbb3d-fd88-4f41-9814-ba0d4ad5c8a4",
   "metadata": {},
   "source": [
    "In this notebook, Data Science Tools and Ecosystem are summarized."
   ]
  },
  {
   "cell_type": "markdown",
   "id": "04a837b5-ca59-4b37-93e1-cb6be32157f4",
   "metadata": {},
   "source": [
    "Objectives:\n",
    "1.List popular languages for Data Science.\n",
    "2.List commonly used libraries used by data scientist\n",
    "3..List data science tools."
   ]
  },
  {
   "cell_type": "markdown",
   "id": "dc796d5c-1256-443d-a6d7-7f84ef80bd75",
   "metadata": {},
   "source": [
    "Some of the popular languages that Data Scientists use are:\n",
    "1. python\n",
    "2. R\n",
    "3. Julia"
   ]
  },
  {
   "cell_type": "markdown",
   "id": "b08f6e72-3a14-4101-a4c3-ffabc0362938",
   "metadata": {},
   "source": [
    "Some of the commonly used libraries used by Data Scientists include:\n",
    "1. pandas\n",
    "2. numpy\n",
    "3. seaborn"
   ]
  },
  {
   "cell_type": "markdown",
   "id": "6cfece1e-8faa-47c9-8c00-9f030c4947f4",
   "metadata": {},
   "source": [
    "Data Science Tools\n",
    "\n",
    "RStudio.\n",
    "\n",
    "Apache Spark.\n",
    "\n",
    "TensorFlow\n",
    "\n"
   ]
  },
  {
   "cell_type": "markdown",
   "id": "4788ad73-8cb0-4703-8677-c452184b9a42",
   "metadata": {},
   "source": [
    "### Below are a few examples of evaluating arithmetic expressions in Python"
   ]
  },
  {
   "cell_type": "code",
   "execution_count": 2,
   "id": "41fa3775-9faf-481b-9b3d-49531435dcce",
   "metadata": {
    "tags": []
   },
   "outputs": [
    {
     "data": {
      "text/plain": [
       "17"
      ]
     },
     "execution_count": 2,
     "metadata": {},
     "output_type": "execute_result"
    }
   ],
   "source": [
    "# This a simple arithmetic expression to mutiply then add integers\n",
    "(3*4)+5"
   ]
  },
  {
   "cell_type": "code",
   "execution_count": 3,
   "id": "7f4d380a-be53-4737-97eb-847741cd1222",
   "metadata": {
    "tags": []
   },
   "outputs": [
    {
     "data": {
      "text/plain": [
       "3.3333333333333335"
      ]
     },
     "execution_count": 3,
     "metadata": {},
     "output_type": "execute_result"
    }
   ],
   "source": [
    "# This will convert 200 minutes to hours by diving by 60\n",
    "200/60"
   ]
  },
  {
   "cell_type": "markdown",
   "id": "8b17d9e2-6505-4ffd-b43e-9556fc923b3e",
   "metadata": {},
   "source": [
    "## Author\n",
    "Sanskriti"
   ]
  },
  {
   "cell_type": "code",
   "execution_count": null,
   "id": "d7b42330-c9ee-4697-9737-d02f8883e3b0",
   "metadata": {},
   "outputs": [],
   "source": []
  }
 ],
 "metadata": {
  "kernelspec": {
   "display_name": "Python",
   "language": "python",
   "name": "conda-env-python-py"
  },
  "language_info": {
   "codemirror_mode": {
    "name": "ipython",
    "version": 3
   },
   "file_extension": ".py",
   "mimetype": "text/x-python",
   "name": "python",
   "nbconvert_exporter": "python",
   "pygments_lexer": "ipython3",
   "version": "3.7.12"
  }
 },
 "nbformat": 4,
 "nbformat_minor": 5
}
